{
 "cells": [
  {
   "cell_type": "code",
   "execution_count": null,
   "metadata": {},
   "outputs": [],
   "source": [
    "import os\n",
    "from dotenv import load_dotenv\n",
    "load_dotenv() ## aloading all the environment variable\n",
    "\n",
    "groq_api_key=os.getenv(\"GROQ_API_KEY\")\n",
    "groq_api_key"
   ]
  },
  {
   "cell_type": "code",
   "execution_count": 4,
   "metadata": {},
   "outputs": [
    {
     "name": "stdout",
     "output_type": "stream",
     "text": [
      "Requirement already satisfied: langchain-groq in /opt/anaconda3/lib/python3.11/site-packages (0.3.6)\n",
      "Requirement already satisfied: langchain-core<1.0.0,>=0.3.68 in /opt/anaconda3/lib/python3.11/site-packages (from langchain-groq) (0.3.72)\n",
      "Requirement already satisfied: groq<1,>=0.29.0 in /opt/anaconda3/lib/python3.11/site-packages (from langchain-groq) (0.30.0)\n",
      "Requirement already satisfied: anyio<5,>=3.5.0 in /opt/anaconda3/lib/python3.11/site-packages (from groq<1,>=0.29.0->langchain-groq) (4.2.0)\n",
      "Requirement already satisfied: distro<2,>=1.7.0 in /opt/anaconda3/lib/python3.11/site-packages (from groq<1,>=0.29.0->langchain-groq) (1.8.0)\n",
      "Requirement already satisfied: httpx<1,>=0.23.0 in /opt/anaconda3/lib/python3.11/site-packages (from groq<1,>=0.29.0->langchain-groq) (0.28.1)\n",
      "Requirement already satisfied: pydantic<3,>=1.9.0 in /opt/anaconda3/lib/python3.11/site-packages (from groq<1,>=0.29.0->langchain-groq) (2.11.7)\n",
      "Requirement already satisfied: sniffio in /opt/anaconda3/lib/python3.11/site-packages (from groq<1,>=0.29.0->langchain-groq) (1.3.0)\n",
      "Requirement already satisfied: typing-extensions<5,>=4.10 in /opt/anaconda3/lib/python3.11/site-packages (from groq<1,>=0.29.0->langchain-groq) (4.14.1)\n",
      "Requirement already satisfied: langsmith>=0.3.45 in /opt/anaconda3/lib/python3.11/site-packages (from langchain-core<1.0.0,>=0.3.68->langchain-groq) (0.4.8)\n",
      "Requirement already satisfied: tenacity!=8.4.0,<10.0.0,>=8.1.0 in /opt/anaconda3/lib/python3.11/site-packages (from langchain-core<1.0.0,>=0.3.68->langchain-groq) (8.2.2)\n",
      "Requirement already satisfied: jsonpatch<2.0,>=1.33 in /opt/anaconda3/lib/python3.11/site-packages (from langchain-core<1.0.0,>=0.3.68->langchain-groq) (1.33)\n",
      "Requirement already satisfied: PyYAML>=5.3 in /opt/anaconda3/lib/python3.11/site-packages (from langchain-core<1.0.0,>=0.3.68->langchain-groq) (6.0.1)\n",
      "Requirement already satisfied: packaging>=23.2 in /opt/anaconda3/lib/python3.11/site-packages (from langchain-core<1.0.0,>=0.3.68->langchain-groq) (23.2)\n",
      "Requirement already satisfied: idna>=2.8 in /opt/anaconda3/lib/python3.11/site-packages (from anyio<5,>=3.5.0->groq<1,>=0.29.0->langchain-groq) (3.4)\n",
      "Requirement already satisfied: certifi in /opt/anaconda3/lib/python3.11/site-packages (from httpx<1,>=0.23.0->groq<1,>=0.29.0->langchain-groq) (2025.1.31)\n",
      "Requirement already satisfied: httpcore==1.* in /opt/anaconda3/lib/python3.11/site-packages (from httpx<1,>=0.23.0->groq<1,>=0.29.0->langchain-groq) (1.0.9)\n",
      "Requirement already satisfied: h11>=0.16 in /opt/anaconda3/lib/python3.11/site-packages (from httpcore==1.*->httpx<1,>=0.23.0->groq<1,>=0.29.0->langchain-groq) (0.16.0)\n",
      "Requirement already satisfied: jsonpointer>=1.9 in /opt/anaconda3/lib/python3.11/site-packages (from jsonpatch<2.0,>=1.33->langchain-core<1.0.0,>=0.3.68->langchain-groq) (2.1)\n",
      "Requirement already satisfied: orjson<4.0.0,>=3.9.14 in /opt/anaconda3/lib/python3.11/site-packages (from langsmith>=0.3.45->langchain-core<1.0.0,>=0.3.68->langchain-groq) (3.11.0)\n",
      "Requirement already satisfied: requests<3,>=2 in /opt/anaconda3/lib/python3.11/site-packages (from langsmith>=0.3.45->langchain-core<1.0.0,>=0.3.68->langchain-groq) (2.31.0)\n",
      "Requirement already satisfied: requests-toolbelt<2.0.0,>=1.0.0 in /opt/anaconda3/lib/python3.11/site-packages (from langsmith>=0.3.45->langchain-core<1.0.0,>=0.3.68->langchain-groq) (1.0.0)\n",
      "Requirement already satisfied: zstandard<0.24.0,>=0.23.0 in /opt/anaconda3/lib/python3.11/site-packages (from langsmith>=0.3.45->langchain-core<1.0.0,>=0.3.68->langchain-groq) (0.23.0)\n",
      "Requirement already satisfied: annotated-types>=0.6.0 in /opt/anaconda3/lib/python3.11/site-packages (from pydantic<3,>=1.9.0->groq<1,>=0.29.0->langchain-groq) (0.7.0)\n",
      "Requirement already satisfied: pydantic-core==2.33.2 in /opt/anaconda3/lib/python3.11/site-packages (from pydantic<3,>=1.9.0->groq<1,>=0.29.0->langchain-groq) (2.33.2)\n",
      "Requirement already satisfied: typing-inspection>=0.4.0 in /opt/anaconda3/lib/python3.11/site-packages (from pydantic<3,>=1.9.0->groq<1,>=0.29.0->langchain-groq) (0.4.1)\n",
      "Requirement already satisfied: charset-normalizer<4,>=2 in /opt/anaconda3/lib/python3.11/site-packages (from requests<3,>=2->langsmith>=0.3.45->langchain-core<1.0.0,>=0.3.68->langchain-groq) (2.0.4)\n",
      "Requirement already satisfied: urllib3<3,>=1.21.1 in /opt/anaconda3/lib/python3.11/site-packages (from requests<3,>=2->langsmith>=0.3.45->langchain-core<1.0.0,>=0.3.68->langchain-groq) (2.0.7)\n"
     ]
    }
   ],
   "source": [
    "!pip install langchain-groq\n"
   ]
  },
  {
   "cell_type": "code",
   "execution_count": 6,
   "metadata": {},
   "outputs": [
    {
     "name": "stderr",
     "output_type": "stream",
     "text": [
      "/var/folders/3f/br3n8fyj7fg0k0wtkrrg6k100000gn/T/ipykernel_3763/799704476.py:9: LangChainDeprecationWarning: Please see the migration guide at: https://python.langchain.com/docs/versions/migrating_memory/\n",
      "  memory = ConversationBufferMemory()      # to set up memory ,This stores the conversation history between user and assistant automatically.\n",
      "/var/folders/3f/br3n8fyj7fg0k0wtkrrg6k100000gn/T/ipykernel_3763/799704476.py:12: LangChainDeprecationWarning: The class `ConversationChain` was deprecated in LangChain 0.2.7 and will be removed in 1.0. Use :class:`~langchain_core.runnables.history.RunnableWithMessageHistory` instead.\n",
      "  conversation = ConversationChain(\n"
     ]
    },
    {
     "name": "stdout",
     "output_type": "stream",
     "text": [
      "\n",
      "\n",
      "\u001b[1m> Entering new ConversationChain chain...\u001b[0m\n",
      "Prompt after formatting:\n",
      "\u001b[32;1m\u001b[1;3mThe following is a friendly conversation between a human and an AI. The AI is talkative and provides lots of specific details from its context. If the AI does not know the answer to a question, it truthfully says it does not know.\n",
      "\n",
      "Current conversation:\n",
      "\n",
      "Human: Hi, I’m Priyanka. Can you help me with job interview tips?\n",
      "AI:\u001b[0m\n",
      "\n",
      "\u001b[1m> Finished chain.\u001b[0m\n",
      "Hi Priyanka, it's great to meet you! I'd love to help with job interview tips.  \n",
      "\n",
      "To give you the best advice, tell me a little more about the interview. What kind of job are you interviewing for? What industry is it in?  Do you have any particular concerns or areas you'd like help with? \n",
      "\n",
      "The more information you give me, the more specific and helpful my tips can be! \n",
      "\n",
      "\n",
      "\n",
      "\n",
      "\u001b[1m> Entering new ConversationChain chain...\u001b[0m\n",
      "Prompt after formatting:\n",
      "\u001b[32;1m\u001b[1;3mThe following is a friendly conversation between a human and an AI. The AI is talkative and provides lots of specific details from its context. If the AI does not know the answer to a question, it truthfully says it does not know.\n",
      "\n",
      "Current conversation:\n",
      "Human: Hi, I’m Priyanka. Can you help me with job interview tips?\n",
      "AI: Hi Priyanka, it's great to meet you! I'd love to help with job interview tips.  \n",
      "\n",
      "To give you the best advice, tell me a little more about the interview. What kind of job are you interviewing for? What industry is it in?  Do you have any particular concerns or areas you'd like help with? \n",
      "\n",
      "The more information you give me, the more specific and helpful my tips can be! \n",
      "\n",
      "\n",
      "Human: What should I say when asked about my weaknesses?\n",
      "AI:\u001b[0m\n",
      "\n",
      "\u001b[1m> Finished chain.\u001b[0m\n",
      "That's a great question, Priyanka!  It's a classic interview question designed to see how self-aware you are and how you handle potentially negative feedback. \n",
      "\n",
      "Here's a strategy you can use:\n",
      "\n",
      "1. **Choose a real weakness:** Don't try to disguise a strength as a weakness (like \"I'm a perfectionist\"). Choose something genuine that you're actively working to improve. \n",
      "\n",
      "2. **Frame it positively:**  Instead of saying \"I'm bad at public speaking,\" try \"I used to get nervous speaking in front of groups, but I've been taking a public speaking course and I'm seeing real progress.\" This shows you're self-aware and proactive about growth.\n",
      "\n",
      "3. **Connect it to the job:** If possible, choose a weakness that's not critical to the role you're interviewing for.  For example, if you're interviewing for a software developer position, saying \"I sometimes struggle with time management\" is better than saying \"I'm not great at coding.\"\n",
      "\n",
      "4. **Provide concrete examples:**  Don't just state the weakness. Give a specific example of how you've dealt with it in the past or how you're working to improve.\n",
      "\n",
      "**Here are a few more tips:**\n",
      "\n",
      "* **Practice your answer:**  Rehearsing your response will help you sound natural and confident.\n",
      "* **Keep it brief:**  Don't dwell on your weakness. Focus on your strengths and your commitment to improvement.\n",
      "* **Be honest:**  Don't try to fake it. Interviewers can usually tell when someone is being insincere. \n",
      "\n",
      "\n",
      "Let me know if you'd like to practice with some example answers! \n",
      "\n",
      "\n"
     ]
    }
   ],
   "source": [
    "from langchain_groq import ChatGroq\n",
    "from langchain_groq import ChatGroq\n",
    "from langchain.chains import ConversationChain\n",
    "from langchain.memory import ConversationBufferMemory\n",
    "\n",
    "\n",
    "llm=ChatGroq(model=\"Gemma2-9b-it\",groq_api_key=groq_api_key)\n",
    "\n",
    "memory = ConversationBufferMemory()      # to set up memory ,This stores the conversation history between user and assistant automatically.\n",
    "\n",
    "#Create conversation chain\n",
    "conversation = ConversationChain(\n",
    "    llm=llm,\n",
    "    memory=memory,\n",
    "    verbose=True  # optional: prints internal reasoning\n",
    ")\n",
    "\n",
    "# Interact with the Chatbot\n",
    "user_input = \"Hi, I’m Priyanka. Can you help me with job interview tips?\"\n",
    "response = conversation.predict(input=user_input)\n",
    "print(response)\n",
    "\n",
    "# Ask another question (history is preserved)\n",
    "follow_up = \"What should I say when asked about my weaknesses?\"\n",
    "print(conversation.predict(input=follow_up))\n",
    "\n"
   ]
  },
  {
   "cell_type": "code",
   "execution_count": 7,
   "metadata": {},
   "outputs": [
    {
     "name": "stdout",
     "output_type": "stream",
     "text": [
      "Human: Hi, I’m Priyanka. Can you help me with job interview tips?\n",
      "AI: Hi Priyanka, it's great to meet you! I'd love to help with job interview tips.  \n",
      "\n",
      "To give you the best advice, tell me a little more about the interview. What kind of job are you interviewing for? What industry is it in?  Do you have any particular concerns or areas you'd like help with? \n",
      "\n",
      "The more information you give me, the more specific and helpful my tips can be! \n",
      "\n",
      "\n",
      "Human: What should I say when asked about my weaknesses?\n",
      "AI: That's a great question, Priyanka!  It's a classic interview question designed to see how self-aware you are and how you handle potentially negative feedback. \n",
      "\n",
      "Here's a strategy you can use:\n",
      "\n",
      "1. **Choose a real weakness:** Don't try to disguise a strength as a weakness (like \"I'm a perfectionist\"). Choose something genuine that you're actively working to improve. \n",
      "\n",
      "2. **Frame it positively:**  Instead of saying \"I'm bad at public speaking,\" try \"I used to get nervous speaking in front of groups, but I've been taking a public speaking course and I'm seeing real progress.\" This shows you're self-aware and proactive about growth.\n",
      "\n",
      "3. **Connect it to the job:** If possible, choose a weakness that's not critical to the role you're interviewing for.  For example, if you're interviewing for a software developer position, saying \"I sometimes struggle with time management\" is better than saying \"I'm not great at coding.\"\n",
      "\n",
      "4. **Provide concrete examples:**  Don't just state the weakness. Give a specific example of how you've dealt with it in the past or how you're working to improve.\n",
      "\n",
      "**Here are a few more tips:**\n",
      "\n",
      "* **Practice your answer:**  Rehearsing your response will help you sound natural and confident.\n",
      "* **Keep it brief:**  Don't dwell on your weakness. Focus on your strengths and your commitment to improvement.\n",
      "* **Be honest:**  Don't try to fake it. Interviewers can usually tell when someone is being insincere. \n",
      "\n",
      "\n",
      "Let me know if you'd like to practice with some example answers! \n",
      "\n",
      "\n"
     ]
    }
   ],
   "source": [
    "print(memory.buffer)\n"
   ]
  },
  {
   "cell_type": "code",
   "execution_count": null,
   "metadata": {},
   "outputs": [],
   "source": []
  }
 ],
 "metadata": {
  "kernelspec": {
   "display_name": "base",
   "language": "python",
   "name": "python3"
  },
  "language_info": {
   "codemirror_mode": {
    "name": "ipython",
    "version": 3
   },
   "file_extension": ".py",
   "mimetype": "text/x-python",
   "name": "python",
   "nbconvert_exporter": "python",
   "pygments_lexer": "ipython3",
   "version": "3.11.8"
  }
 },
 "nbformat": 4,
 "nbformat_minor": 2
}
